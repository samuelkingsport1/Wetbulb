{
 "cells": [
  {
   "cell_type": "code",
   "execution_count": null,
   "metadata": {},
   "outputs": [],
   "source": [
    "pip install pandas"
   ]
  },
  {
   "cell_type": "code",
   "execution_count": null,
   "metadata": {},
   "outputs": [],
   "source": [
    "# Import necessary libraries\n",
    "import requests\n",
    "import pandas as pd\n",
    "import zipfile\n",
    "from io import BytesIO\n",
    "\n",
    "# Specify the URL of the zip file\n",
    "url = 'http://api.climately.com/v1/274cfc396c254a26a8323307230306/current/all.zip'\n",
    "\n",
    "# Send a HTTP request to the specified URL\n",
    "response = requests.get(url)\n",
    "\n",
    "# Make sure the request was successful\n",
    "assert response.status_code == 200\n",
    "\n",
    "# Create a zipfile object from the content of the response\n",
    "zip_file = zipfile.ZipFile(BytesIO(response.content))\n",
    "\n",
    "# Extract the zipfile and get a list of files, assuming there's a single file in the zip\n",
    "file = zip_file.namelist()[0]\n",
    "\n",
    "# Open the CSV file as a pandas DataFrame\n",
    "df = pd.read_csv(zip_file.open(file))\n",
    "\n",
    "# Print the first 10 rows of the DataFrame in a nice format\n",
    "df.head(10).style\n"
   ]
  }
 ],
 "metadata": {
  "language_info": {
   "name": "python"
  },
  "orig_nbformat": 4
 },
 "nbformat": 4,
 "nbformat_minor": 2
}
